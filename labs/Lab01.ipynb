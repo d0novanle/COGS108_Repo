{
  "cells": [
    {
      "cell_type": "markdown",
      "id": "8b78d1e9",
      "metadata": {
        "nbgrader": {
          "grade": false,
          "grade_id": "cell-3cb1c4a0f8a7764a",
          "locked": true,
          "schema_version": 3,
          "solution": false,
          "task": false
        },
        "id": "8b78d1e9"
      },
      "source": [
        "# Lab 01: CSS 1\n",
        "\n",
        "Welcome to the first lab of **CSS 1**!\n",
        "\n",
        "In this self-paced lab, you'll get hands-on practice with the following **tools** and **concepts**:\n",
        "\n",
        "- Jupyter notebooks.  \n",
        "- Defining and using variables.  \n",
        "- Submitting assignments using DataHub.\n",
        "\n",
        "### Guide to CSS 1 Labs\n",
        "\n",
        "Programming can be challenging, whether you're experienced or completely new. But it can also be a lot of fun. If you find yourself overwhelmed or frustrated with a question, remember: we're here to help!\n",
        "\n",
        "- If you're working on this in section, feel free to ask your TA for guidance.  \n",
        "- Labs are also **collaborative**, so you can also ask your fellow classmates. In fact, we encourage it!\n",
        "- If you're stuck, you can also post questions on Piazza."
      ]
    },
    {
      "cell_type": "markdown",
      "id": "d7ba45a5",
      "metadata": {
        "nbgrader": {
          "grade": false,
          "grade_id": "cell-26792242b0fc00ac",
          "locked": true,
          "schema_version": 3,
          "solution": false,
          "task": false
        },
        "id": "d7ba45a5"
      },
      "source": [
        "## Part 1: Jupyter notebook tooling\n",
        "\n",
        "> **Tooling** means setting up all the software and tools you'll be using.\n",
        "\n",
        "In this class, we're going to be working *a lot* with Jupyter notebooks, so Part 1 of this lab will focus on familiarizing you with how a Jupyter notebook works."
      ]
    },
    {
      "cell_type": "markdown",
      "id": "91155cb6",
      "metadata": {
        "nbgrader": {
          "grade": false,
          "grade_id": "cell-9fa140cc6c59ec00",
          "locked": true,
          "schema_version": 3,
          "solution": false,
          "task": false
        },
        "id": "91155cb6"
      },
      "source": [
        "### Working with \"cells\"\n",
        "\n",
        "> A **cell** is an independent unit in a Jupyter notebook.\n",
        "\n",
        "This cell is a *Markdown* cell, which means you can type text into it along with code to *format* that text. Other cells are *Code* cells, which means you can use them to execute Python code.\n",
        "\n",
        "You can determine the type of a cell using the dropdown menu on the Jupyter toolbar."
      ]
    },
    {
      "cell_type": "markdown",
      "id": "85e8d834",
      "metadata": {
        "nbgrader": {
          "grade": false,
          "grade_id": "cell-7b0813669c951389",
          "locked": true,
          "schema_version": 3,
          "solution": false,
          "task": false
        },
        "id": "85e8d834"
      },
      "source": [
        "### Markdown Cells"
      ]
    },
    {
      "cell_type": "markdown",
      "id": "5bdb8c71",
      "metadata": {
        "nbgrader": {
          "grade": false,
          "grade_id": "cell-f675989ad26709c3",
          "locked": true,
          "schema_version": 3,
          "solution": false,
          "task": false
        },
        "id": "5bdb8c71"
      },
      "source": [
        "#### Editing a Markdown cell.\n",
        "\n",
        "If you double-click a cell in Jupyter notebooks, you can *edit* that cell. Try double-clicking the cell just below this one, and write: \"My name is NAME\" (where \"NAME\" is replaced by your own name)."
      ]
    },
    {
      "cell_type": "markdown",
      "id": "9915567d",
      "metadata": {
        "nbgrader": {
          "grade": true,
          "grade_id": "cell-449047da9a748b1b",
          "locked": false,
          "points": 1,
          "schema_version": 3,
          "solution": true,
          "task": false
        },
        "id": "9915567d"
      },
      "source": []
    },
    {
      "cell_type": "markdown",
      "id": "fe652fa9",
      "metadata": {
        "nbgrader": {
          "grade": false,
          "grade_id": "cell-85c9b5bf27b0a9f3",
          "locked": true,
          "schema_version": 3,
          "solution": false,
          "task": false
        },
        "id": "fe652fa9"
      },
      "source": [
        "#### Using Markdown formatting.\n",
        "\n",
        "You can also format the text in Markdown cells. A single asterisk `*` makes text *italic*, and two asterisks `**` makes text **bolded**. Use the single asterisk to write your *Intended Major* in the cell below."
      ]
    },
    {
      "cell_type": "markdown",
      "id": "163209f9",
      "metadata": {
        "nbgrader": {
          "grade": true,
          "grade_id": "cell-bd654543a23bf29e",
          "locked": false,
          "points": 1,
          "schema_version": 3,
          "solution": true,
          "task": false
        },
        "id": "163209f9"
      },
      "source": []
    },
    {
      "cell_type": "markdown",
      "id": "cec340fd",
      "metadata": {
        "nbgrader": {
          "grade": false,
          "grade_id": "cell-ab9655179671ce8c",
          "locked": true,
          "schema_version": 3,
          "solution": false,
          "task": false
        },
        "id": "cec340fd"
      },
      "source": [
        "#### Adding a new cell.\n",
        "\n",
        "You can also create *new* cells. In the toolbar, you should see a \"+\" sign, which can use to create a new cell.\n",
        "\n",
        "To create a new **Markdown** cell just below this one:\n",
        "\n",
        "1. First, single-click on this cell (the one you're reading right now).\n",
        "2. Then, press the \"+\" button.  \n",
        "3. In that cell, use the dropdown toolbar depicted earlier to change the cell type to **Markdown**.\n",
        "4. Then, complete the following sentence: \"I'm taking CSS because...\""
      ]
    },
    {
      "cell_type": "markdown",
      "id": "edb1ba9d",
      "metadata": {
        "nbgrader": {
          "grade": false,
          "grade_id": "cell-f6fec69fa08c4b86",
          "locked": true,
          "schema_version": 3,
          "solution": false,
          "task": false
        },
        "id": "edb1ba9d"
      },
      "source": [
        "### Code cells\n",
        "\n",
        "The other main type of Jupyter notebook cell we'll be using is a **code cell**. These can be used to write and run Python code."
      ]
    },
    {
      "cell_type": "markdown",
      "id": "1dfcc4d3",
      "metadata": {
        "nbgrader": {
          "grade": false,
          "grade_id": "cell-8ef12f19afcc6db7",
          "locked": true,
          "schema_version": 3,
          "solution": false,
          "task": false
        },
        "id": "1dfcc4d3"
      },
      "source": [
        "#### Running a code cell\n",
        "\n",
        "Just below this cell is a **code cell**. You can write Python code in that cell.\n",
        "\n",
        "To run that cell, follow these instructions:\n",
        "\n",
        "1. First, remove the code already there, where it says: `raise NotImplementedError`\n",
        "2. Then, write the following code in the cell: `print(\"Hello!\")`.\n",
        "3. Press the \"play/run\" button in the toolbar.  \n",
        "4. Alternatively, press \"Shift + Enter\"."
      ]
    },
    {
      "cell_type": "code",
      "execution_count": 3,
      "id": "04a1fe12",
      "metadata": {
        "nbgrader": {
          "grade": true,
          "grade_id": "cell-505b3d7277c68522",
          "locked": false,
          "points": 1,
          "schema_version": 3,
          "solution": true,
          "task": false
        },
        "id": "04a1fe12",
        "colab": {
          "base_uri": "https://localhost:8080/"
        },
        "outputId": "3ac01b20-b82f-4841-e1f0-f10687e4bda0"
      },
      "outputs": [
        {
          "output_type": "stream",
          "name": "stdout",
          "text": [
            "Hello!\n"
          ]
        }
      ],
      "source": [
        "print(\"Hello!\")"
      ]
    },
    {
      "cell_type": "markdown",
      "id": "cb8b4c13",
      "metadata": {
        "nbgrader": {
          "grade": false,
          "grade_id": "cell-ee59a9388cce03d6",
          "locked": true,
          "schema_version": 3,
          "solution": false,
          "task": false
        },
        "id": "cb8b4c13"
      },
      "source": [
        "#### Modifying another code cell\n",
        "\n",
        "The cell below this one will `raise` an **error** (also called an `Exception`) if you run it––or, notably, if you submit to DataHub without changing it.\n",
        "\n",
        "Replace (i.e., delete and write something else) the code below with another `print` statement; make sure you run the cell to test if it works."
      ]
    },
    {
      "cell_type": "code",
      "execution_count": 5,
      "id": "5704bc83",
      "metadata": {
        "nbgrader": {
          "grade": false,
          "grade_id": "cell-3b0426ecd747db9f",
          "locked": false,
          "schema_version": 3,
          "solution": true,
          "task": false
        },
        "id": "5704bc83",
        "colab": {
          "base_uri": "https://localhost:8080/"
        },
        "outputId": "14f18b9c-909b-4c31-c6ef-ea152e438e65"
      },
      "outputs": [
        {
          "output_type": "stream",
          "name": "stdout",
          "text": [
            "Hello, my name is Donovan Le!\n"
          ]
        }
      ],
      "source": [
        "print(\"Hello, my name is Donovan Le!\")"
      ]
    },
    {
      "cell_type": "markdown",
      "id": "1ddd612a",
      "metadata": {
        "nbgrader": {
          "grade": false,
          "grade_id": "cell-913e26916207327e",
          "locked": true,
          "schema_version": 3,
          "solution": false,
          "task": false
        },
        "id": "1ddd612a"
      },
      "source": [
        "## Part 2: Python basics\n",
        "\n",
        "In this part, we'll get some hands-on practice with [Python basics](https://ucsd-css1-introduction.github.io/overview/lectures/03-basics-variables.html): declaring and using **variables**, using basic **operators** (e.g., `+` and `-`), and so on."
      ]
    },
    {
      "cell_type": "markdown",
      "id": "67b7530f",
      "metadata": {
        "nbgrader": {
          "grade": false,
          "grade_id": "cell-750007066adba1b7",
          "locked": true,
          "schema_version": 3,
          "solution": false,
          "task": false
        },
        "id": "67b7530f"
      },
      "source": [
        "### Declaring variables\n",
        "\n",
        "> A **variable** stores a particular value, like a \"container\".\n",
        "\n",
        "Variables can be **declared** using the assignment operator (`=`)."
      ]
    },
    {
      "cell_type": "markdown",
      "id": "24164dfe",
      "metadata": {
        "nbgrader": {
          "grade": false,
          "grade_id": "cell-80c786eccf599449",
          "locked": true,
          "schema_version": 3,
          "solution": false,
          "task": false
        },
        "id": "24164dfe"
      },
      "source": [
        "#### Declaring an `int`\n",
        "\n",
        "In the code cell below, create a variable called `my_first_int` and assign it to some number (e.g., `5`)."
      ]
    },
    {
      "cell_type": "code",
      "execution_count": 8,
      "id": "9a3549f3",
      "metadata": {
        "nbgrader": {
          "grade": false,
          "grade_id": "cell-d115018370f00d1f",
          "locked": false,
          "schema_version": 3,
          "solution": true,
          "task": false
        },
        "id": "9a3549f3",
        "colab": {
          "base_uri": "https://localhost:8080/"
        },
        "outputId": "eb02fa43-bcde-4f46-b59d-5aa7e6950b0f"
      },
      "outputs": [
        {
          "output_type": "execute_result",
          "data": {
            "text/plain": [
              "1"
            ]
          },
          "metadata": {},
          "execution_count": 8
        }
      ],
      "source": [
        "my_first_int = 1\n",
        "my_first_int"
      ]
    },
    {
      "cell_type": "markdown",
      "id": "b19ea666",
      "metadata": {
        "nbgrader": {
          "grade": false,
          "grade_id": "cell-484d732e6d4d35c2",
          "locked": true,
          "schema_version": 3,
          "solution": false,
          "task": false
        },
        "id": "b19ea666"
      },
      "source": [
        "Below is a piece of code that *checks* whether you've correctly declared this variable. If you haven't declared it yet, that cell will throw an error."
      ]
    },
    {
      "cell_type": "code",
      "execution_count": 9,
      "id": "c405cf93",
      "metadata": {
        "nbgrader": {
          "grade": true,
          "grade_id": "cell-078d0746aca39b71",
          "locked": true,
          "points": 1,
          "schema_version": 3,
          "solution": false,
          "task": false
        },
        "id": "c405cf93"
      },
      "outputs": [],
      "source": [
        "assert my_first_int"
      ]
    },
    {
      "cell_type": "markdown",
      "id": "6cfc380d",
      "metadata": {
        "nbgrader": {
          "grade": false,
          "grade_id": "cell-e8a75cf32467d127",
          "locked": true,
          "schema_version": 3,
          "solution": false,
          "task": false
        },
        "id": "6cfc380d"
      },
      "source": [
        "Below this cell is a piece of code that *checks* whether this variable has been assigned to an `int` type (as opposed to a `str`, etc.). If you've incorrectly assigned `my_first_int` to a `str`, it'll throw an error."
      ]
    },
    {
      "cell_type": "code",
      "execution_count": 11,
      "id": "e79e341c",
      "metadata": {
        "nbgrader": {
          "grade": true,
          "grade_id": "cell-140beb2dc935b143",
          "locked": true,
          "points": 1,
          "schema_version": 3,
          "solution": false,
          "task": false
        },
        "id": "e79e341c"
      },
      "outputs": [],
      "source": [
        "assert type(my_first_int) == int"
      ]
    },
    {
      "cell_type": "markdown",
      "id": "aa9eb1b1",
      "metadata": {
        "nbgrader": {
          "grade": false,
          "grade_id": "cell-9929a396481c8ba8",
          "locked": true,
          "schema_version": 3,
          "solution": false,
          "task": false
        },
        "id": "aa9eb1b1"
      },
      "source": [
        "#### Declaring a `str`\n",
        "\n",
        "Now let's create another variable called `my_first_str`. Make sure you assign it to a `str` type, i.e., a sequence of characters surrounded quotes (e.g., `\"apple\"`)."
      ]
    },
    {
      "cell_type": "code",
      "execution_count": 13,
      "id": "d7f7432a",
      "metadata": {
        "nbgrader": {
          "grade": false,
          "grade_id": "cell-a8877302b82f6070",
          "locked": false,
          "schema_version": 3,
          "solution": true,
          "task": false
        },
        "id": "d7f7432a",
        "colab": {
          "base_uri": "https://localhost:8080/",
          "height": 35
        },
        "outputId": "f7fd241a-1bb8-4a11-9976-18a2a9f78d17"
      },
      "outputs": [
        {
          "output_type": "execute_result",
          "data": {
            "text/plain": [
              "'ts pmo gng'"
            ],
            "application/vnd.google.colaboratory.intrinsic+json": {
              "type": "string"
            }
          },
          "metadata": {},
          "execution_count": 13
        }
      ],
      "source": [
        "my_first_str = \"ts pmo gng\"\n",
        "my_first_str"
      ]
    },
    {
      "cell_type": "markdown",
      "id": "f053622b",
      "metadata": {
        "nbgrader": {
          "grade": false,
          "grade_id": "cell-81c4ae9e75f47675",
          "locked": true,
          "schema_version": 3,
          "solution": false,
          "task": false
        },
        "id": "f053622b"
      },
      "source": [
        "Below is a piece of code that *checks* whether you've correctly declared this variable. If you haven't declared it yet, that cell will throw an error."
      ]
    },
    {
      "cell_type": "code",
      "execution_count": 14,
      "id": "f560689f",
      "metadata": {
        "nbgrader": {
          "grade": true,
          "grade_id": "cell-5d096511c1caa9e0",
          "locked": true,
          "points": 1,
          "schema_version": 3,
          "solution": false,
          "task": false
        },
        "id": "f560689f"
      },
      "outputs": [],
      "source": [
        "assert my_first_str"
      ]
    },
    {
      "cell_type": "markdown",
      "id": "8dab2bc0",
      "metadata": {
        "nbgrader": {
          "grade": false,
          "grade_id": "cell-c0f8bf20dd855d42",
          "locked": true,
          "schema_version": 3,
          "solution": false,
          "task": false
        },
        "id": "8dab2bc0"
      },
      "source": [
        "Below this cell is a piece of code that *checks* whether this variable has been assigned to a `str` type (as opposed to a `bool`, etc.). If you've incorrectly assigned `my_first_str` to a `bool` or some other type, it'll throw an error."
      ]
    },
    {
      "cell_type": "code",
      "execution_count": 15,
      "id": "78a9fceb",
      "metadata": {
        "nbgrader": {
          "grade": true,
          "grade_id": "cell-764de1ed9f1cefc4",
          "locked": true,
          "points": 1,
          "schema_version": 3,
          "solution": false,
          "task": false
        },
        "id": "78a9fceb"
      },
      "outputs": [],
      "source": [
        "assert type(my_first_str) == str"
      ]
    },
    {
      "cell_type": "markdown",
      "id": "0a069e08",
      "metadata": {
        "nbgrader": {
          "grade": false,
          "grade_id": "cell-b395e452d623c408",
          "locked": true,
          "schema_version": 3,
          "solution": false,
          "task": false
        },
        "id": "0a069e08"
      },
      "source": [
        "#### Declaring another `str`\n",
        "\n",
        "In the cell below, create another `str` called `my_second_str`. The only constraint is that this `my_second_str` should have *more characters* than `my_first_str`."
      ]
    },
    {
      "cell_type": "code",
      "execution_count": 17,
      "id": "13d8f739",
      "metadata": {
        "nbgrader": {
          "grade": false,
          "grade_id": "cell-e31c231b582d75ae",
          "locked": false,
          "schema_version": 3,
          "solution": true,
          "task": false
        },
        "id": "13d8f739",
        "colab": {
          "base_uri": "https://localhost:8080/",
          "height": 35
        },
        "outputId": "ff43944c-9850-40e0-ee16-cc1b59ed7d70"
      },
      "outputs": [
        {
          "output_type": "execute_result",
          "data": {
            "text/plain": [
              "'lol ngl gang ts pmo sybau'"
            ],
            "application/vnd.google.colaboratory.intrinsic+json": {
              "type": "string"
            }
          },
          "metadata": {},
          "execution_count": 17
        }
      ],
      "source": [
        "my_second_str = \"lol ngl gang ts pmo sybau\"\n",
        "my_second_str"
      ]
    },
    {
      "cell_type": "code",
      "execution_count": 18,
      "id": "3cf3559a",
      "metadata": {
        "nbgrader": {
          "grade": true,
          "grade_id": "cell-a261b60f16b8f03f",
          "locked": true,
          "points": 1,
          "schema_version": 3,
          "solution": false,
          "task": false
        },
        "id": "3cf3559a"
      },
      "outputs": [],
      "source": [
        "assert type(my_second_str) == str"
      ]
    },
    {
      "cell_type": "code",
      "execution_count": 19,
      "id": "27f8e16b",
      "metadata": {
        "nbgrader": {
          "grade": true,
          "grade_id": "cell-2843c80287b9c2b5",
          "locked": true,
          "points": 1,
          "schema_version": 3,
          "solution": false,
          "task": false
        },
        "id": "27f8e16b"
      },
      "outputs": [],
      "source": [
        "assert my_second_str"
      ]
    },
    {
      "cell_type": "code",
      "execution_count": 20,
      "id": "01100b18",
      "metadata": {
        "nbgrader": {
          "grade": true,
          "grade_id": "cell-4bcbca944bb911db",
          "locked": true,
          "points": 1,
          "schema_version": 3,
          "solution": false,
          "task": false
        },
        "id": "01100b18"
      },
      "outputs": [],
      "source": [
        "assert len(my_second_str) > len(my_first_str)"
      ]
    },
    {
      "cell_type": "markdown",
      "id": "c536261b",
      "metadata": {
        "nbgrader": {
          "grade": false,
          "grade_id": "cell-8615eb1ad2516dd4",
          "locked": true,
          "schema_version": 3,
          "solution": false,
          "task": false
        },
        "id": "c536261b"
      },
      "source": [
        "## Part 3: Submit\n",
        "\n",
        "Once you've completed all the cells above (saving regularly):\n",
        "\n",
        "- You will need to save your file on Google Drive\n",
        "- Go to Canvas, to the Vocareum tab\n",
        "- Select the appropriate assignment on Vocareum\n",
        "- Submit your completed assignment\n",
        "- Click \"Validate\"; Vocareum will tell you if you passed the public tests\n",
        "- Submit your assignment on Vocareum\n",
        "\n",
        "If you have any trouble accessing or submitting the assignment, please check in with your TA!"
      ]
    }
  ],
  "metadata": {
    "celltoolbar": "Create Assignment",
    "kernelspec": {
      "display_name": "Python 3 (ipykernel)",
      "language": "python",
      "name": "python3"
    },
    "language_info": {
      "codemirror_mode": {
        "name": "ipython",
        "version": 3
      },
      "file_extension": ".py",
      "mimetype": "text/x-python",
      "name": "python",
      "nbconvert_exporter": "python",
      "pygments_lexer": "ipython3",
      "version": "3.9.5"
    },
    "colab": {
      "provenance": []
    }
  },
  "nbformat": 4,
  "nbformat_minor": 5
}